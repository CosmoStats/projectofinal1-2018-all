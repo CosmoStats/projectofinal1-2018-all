{
 "cells": [
  {
   "cell_type": "code",
   "execution_count": 13,
   "metadata": {},
   "outputs": [],
   "source": [
    "#librerias a usar \n",
    "import matplotlib. pyplot as plt\n",
    "import numpy as np\n",
    "import random\n",
    "import scipy\n",
    "import scipy.special\n",
    "import math\n",
    "from scipy.optimize import minimize\n",
    "import scipy.optimize as op\n",
    "import scipy.stats as stats\n",
    "from numpy.linalg import inv\n",
    "%matplotlib inline"
   ]
  },
  {
   "cell_type": "markdown",
   "metadata": {},
   "source": [
    "### IMPORTAMOS DATOS"
   ]
  },
  {
   "cell_type": "code",
   "execution_count": 2,
   "metadata": {},
   "outputs": [],
   "source": [
    "#datos:\n",
    "tb1 = np.loadtxt('jla_mub_covmatrix.dat')\n",
    "tb2 = np.loadtxt('jla_mub.txt')\n",
    "tb3 = np.loadtxt('jla_lcparams.txt', usecols=[1,2,4,6,8,10,12,13,14,15])\n",
    "\n",
    "tb4 = np.loadtxt('jla_v0a_covmatrix.dat')\n",
    "tb5 = np.loadtxt('jla_v0b_covmatrix.dat')\n",
    "tb6 = np.loadtxt('jla_v0_covmatrix.dat')\n",
    "tb7 = np.loadtxt('jla_vab_covmatrix.dat')\n",
    "tb8 = np.loadtxt('jla_va_covmatrix.dat')\n",
    "tb9 = np.loadtxt('jla_vb_covmatrix.dat')\n",
    "\n",
    "# divido los datos de jla_mub.txt en dos arrelgos z y mu \n",
    "z=tb2[:,0]\n",
    "mu=tb2[:,1]\n",
    "\n",
    "z_cmb = tb3[:,0]\n",
    "z_hel = tb3[:,1]\n",
    "mb = tb3[:,2]\n",
    "x1 = tb3[:,3]   #estiramiento de la curvatura de luz (stretching of the light-curve) \n",
    "color = tb3[:,4]   # color de supernova a brillo máximo (supernova color at maximum brightness)\n",
    "rdvar_3 = tb3[:,5]\n",
    "tmax = tb3[:,6]\n",
    "cov_m_s = tb3[:,7]\n",
    "cov_m_c = tb3[:,8]\n",
    "cov_s_c = tb3[:,9]"
   ]
  },
  {
   "cell_type": "code",
   "execution_count": 57,
   "metadata": {},
   "outputs": [],
   "source": [
    "def acomodo_de_matriz(tbn):\n",
    "    covmat = []\n",
    "    N = int(math.sqrt(len(tbn)))\n",
    "    for i in range(N):\n",
    "        row=[]\n",
    "        for j in range(N):\n",
    "            row.append(tbn[(N*i)+j])\n",
    "        covmat.append(row)\n",
    "    return covmat"
   ]
  },
  {
   "cell_type": "code",
   "execution_count": 58,
   "metadata": {},
   "outputs": [
    {
     "data": {
      "text/plain": [
       "(31, 31)"
      ]
     },
     "execution_count": 58,
     "metadata": {},
     "output_type": "execute_result"
    }
   ],
   "source": [
    "#arreglo los datos de jla_mud_covmatrix.dat en una matriz de 31x31\n",
    "covmatrix = np.array(acomodo_de_matriz(tb1))\n",
    "covmatrix.shape"
   ]
  },
  {
   "cell_type": "code",
   "execution_count": 59,
   "metadata": {},
   "outputs": [],
   "source": [
    "#Pongo las varianzas de la matriz anterior (que se encuentran en la diagunal) en un arreglo.  \n",
    "var=[]\n",
    "for i in range(31):\n",
    "    var.append(covmatrix[i][i])"
   ]
  },
  {
   "cell_type": "code",
   "execution_count": 74,
   "metadata": {},
   "outputs": [],
   "source": [
    "#matriz de covarianza\n",
    "mag_covmat_file = np.array(acomodo_de_matriz(tb6))\n",
    "stretch_covmat_file = np.array(acomodo_de_matriz(tb8))\n",
    "colour_covmat_file = np.array(acomodo_de_matriz(tb9))\n",
    "mag_stretch_covmat_file = np.array(acomodo_de_matriz(tb4))\n",
    "mag_colour_covmat_file = np.array(acomodo_de_matriz(tb5))\n",
    "stretch_colour_covmat_file = np.array(acomodo_de_matriz(tb7))"
   ]
  },
  {
   "cell_type": "markdown",
   "metadata": {},
   "source": [
    "### GRAFICAMOS"
   ]
  },
  {
   "cell_type": "code",
   "execution_count": 75,
   "metadata": {},
   "outputs": [
    {
     "data": {
      "text/plain": [
       "Text(0,0.5,'$\\\\mu$')"
      ]
     },
     "execution_count": 75,
     "metadata": {},
     "output_type": "execute_result"
    },
    {
     "data": {
      "image/png": "[encoded data removed]",
      "text/plain": [
       "<Figure size 360x360 with 1 Axes>"
      ]
     },
     "metadata": {},
     "output_type": "display_data"
    }
   ],
   "source": [
    "#Graficamos los datos de 'jla_mub.txt'\n",
    "plt.figure(figsize = (5,5))\n",
    "plt.plot(z, mu, 'ko-')\n",
    "plt.xlabel('$Z$',fontsize = 18)\n",
    "plt.ylabel('$\\mu$',fontsize = 18)"
   ]
  },
  {
   "cell_type": "markdown",
   "metadata": {},
   "source": [
    "Definimos la $\\mu_{\\Lambda CDM}$ como ya se hizo en ejercicios anteriores:"
   ]
  },
  {
   "cell_type": "code",
   "execution_count": 76,
   "metadata": {},
   "outputs": [],
   "source": [
    "def sss(omg):\n",
    "    return ((1.0-omg)/omg)**(1./3)\n",
    "def eta(a,omg):\n",
    "    r = np.sqrt(np.power(sss(omg),3)+1)\n",
    "    return 2*r*pow((1./a**4 - (0.1540*sss(omg)/(a**3))+(0.4304*pow(sss(omg),2)/(a**2))+(0.19097*pow(sss(omg),3)/(a**1))+(0.066941*pow(sss(omg),4))),-1.0/8)\n",
    "def D_L(z,omg,H):\n",
    "    return (299792/H)*(1+z)*(eta(1,omg)-eta((1/(1+z)),omg))\n",
    "def mu_cdm(z,omg):\n",
    "    return 25 + (5*np.log10(D_L(z,omg,70.0))) #Valor de H_0 70 km/s*Mpc"
   ]
  },
  {
   "cell_type": "code",
   "execution_count": 77,
   "metadata": {},
   "outputs": [
    {
     "data": {
      "text/plain": [
       "<matplotlib.legend.Legend at 0x7f4b2d6a3e48>"
      ]
     },
     "execution_count": 77,
     "metadata": {},
     "output_type": "execute_result"
    },
    {
     "data": {
      "image/png": "[encoded data removed]",
      "text/plain": [
       "<Figure size 432x288 with 1 Axes>"
      ]
     },
     "metadata": {},
     "output_type": "display_data"
    }
   ],
   "source": [
    "omg_true = 0.289\n",
    "mu_true = mu_cdm(z, omg_true)\n",
    "\n",
    "#graficamos mu_cdm con los datos de 'jla_mub.txt'\n",
    "plt.xlabel('$Z$',fontsize = 18)\n",
    "plt.ylabel('$\\mu$',fontsize = 18)\n",
    "plt.plot(z,mu,'bo',label = 'datos' )\n",
    "plt.plot(z,mu_true,'r.-', label = 'modelo')\n",
    "plt.legend()"
   ]
  },
  {
   "cell_type": "markdown",
   "metadata": {},
   "source": [
    "La estimación de la distancia con SNe Ia se basa en la observación empírica de que estos eventos forman una clase homogénea cuya variabilidad restante está razonablemente bien captada por dos parámetros. Uno de ellos describe el tiempo de estiramiento de la curvatura de luz $X_1$ y el otro describe el color de supernova a brillo máximo $C$\n",
    "\n",
    "Estimador de distancia:\n",
    "\n",
    "\n",
    "\\begin{equation}\n",
    "\\hat{\\mu} = m_B^{\\star} - (M_B - \\alpha \\times X_1 + \\beta \\times C)\n",
    "\\end{equation}\n",
    "\n",
    "\n",
    "Donde $m_B^{\\star}$ corresponde a la magnitud máxima observada en el marco de reposo B y $\\alpha$, $\\beta$ y $M_B$ son los nuisance parameters en el estimador de distancia.\n",
    "\n",
    "Usando el estimador de distancia anterior, ajustamos una cosmología a las mediciones de supernovas minimizando la siguiente función:\n",
    "\n",
    "\n",
    "\\begin{equation}\n",
    "\\chi^2 = (\\hat{\\mu} - \\mu_{\\Lambda CDM}(z;\\Omega_m))^{\\dagger} C^{-1} (\\hat{\\mu} - \\mu_{\\Lambda CDM}(Z;\\Omega))\n",
    "\\end{equation}\n",
    "\n",
    "\n",
    "Donde $C$ es la matriz de covarianza de $\\hat{\\mu}$. Los parametros libres en el ajuste son $\\Omega_m$ y los cuatro nuisance parameters $\\alpha, \\beta, M_B^{1}$ y $\\Delta_M$"
   ]
  },
  {
   "cell_type": "code",
   "execution_count": 107,
   "metadata": {},
   "outputs": [],
   "source": [
    "def mu_hat(mb,Mb,delta_M,alf,bet,x1,c): # función para calcular mu gorrito\n",
    "    mu = mb - (Mb+delta_M - alf*x1 + bet*c)\n",
    "    return mu "
   ]
  },
  {
   "cell_type": "code",
   "execution_count": 108,
   "metadata": {},
   "outputs": [],
   "source": [
    "alfa = 0.140\n",
    "beta = 3.139\n",
    "Mb = -19.04\n",
    "delta_M = -0.060\n",
    "\n",
    "omg_m = 0.289\n",
    "\n",
    "#Calculamos la mu gorrito y lcdm:\n",
    "mu_h = mu_hat(mb,Mb,delta_M,alfa,beta,x1,color)\n",
    "mu_c = mu_cdm(np.sort(z_cmb),omg_m)"
   ]
  },
  {
   "cell_type": "code",
   "execution_count": 109,
   "metadata": {},
   "outputs": [
    {
     "data": {
      "text/plain": [
       "<matplotlib.legend.Legend at 0x7f4b2d6c2e80>"
      ]
     },
     "execution_count": 109,
     "metadata": {},
     "output_type": "execute_result"
    },
    {
     "data": {
      "image/png": "[encoded data removed]",
      "text/plain": [
       "<Figure size 432x288 with 1 Axes>"
      ]
     },
     "metadata": {},
     "output_type": "display_data"
    }
   ],
   "source": [
    "#Graficamos los datos: \n",
    "plt.plot(np.sort(z_cmb),mu_c,'k-',label = '$\\mu_{\\lambda CDM}$' )\n",
    "plt.plot(z_cmb,mu_h,'b,',label = '$\\hat{\\mu}$' )\n",
    "plt.xlabel('$z$',fontsize = 18)\n",
    "plt.ylabel('$\\hat{\\mu}$',fontsize = 18)\n",
    "plt.legend()"
   ]
  },
  {
   "cell_type": "code",
   "execution_count": 110,
   "metadata": {},
   "outputs": [],
   "source": [
    "def lnlik (theta,z,mb,x1,color,C):\n",
    "    #Parametrso iniciales\n",
    "    Mb,delta_M,alf,bet,omg = theta\n",
    "    C_1 = inv(C)\n",
    "    V = mu_hat(mb,Mb,delta_M,alf,bet,x1,color)-mu_cdm(z,omg)\n",
    "    chi_2 = np.inner(V.T,np.inner(C_1,V))\n",
    "    return -0.5*np.sum(chi_2)"
   ]
  },
  {
   "cell_type": "code",
   "execution_count": 111,
   "metadata": {},
   "outputs": [],
   "source": [
    "#matriz de covarianza:\n",
    "C = mag_covmat_file + stretch_covmat_file + colour_covmat_file + mag_stretch_covmat_file + mag_colour_covmat_file + stretch_colour_covmat_file"
   ]
  },
  {
   "cell_type": "code",
   "execution_count": 112,
   "metadata": {},
   "outputs": [],
   "source": [
    "Mb_ini, delta_M_ini, alf_ini, bet_ini, omg_ini = -10, -0.1, 0.05, 2.0, 0.05 \n",
    "nll = lambda *args: -lnlik(*args)\n",
    "bounds = ((-30.0,-5.0),(-1,1),(0.05,0.7),(0.5,5.0),(0.05,0.8))\n",
    "result = op.minimize(nll, [Mb_ini, delta_M_ini, alf_ini, bet_ini, omg_ini], args=(z_cmb,mb,x1,color,C), bounds = bounds)\n",
    "Mb_ml,delta_M_ml,alf_ml, bet_ml, omg_ml =result[\"x\"]"
   ]
  },
  {
   "cell_type": "code",
   "execution_count": 113,
   "metadata": {},
   "outputs": [
    {
     "name": "stdout",
     "output_type": "stream",
     "text": [
      "-18.384333756591083 -0.6037587546635443 0.10833978529503693 2.375226950753271 0.30139381691088474\n"
     ]
    }
   ],
   "source": [
    "print(Mb_ml,delta_M_ml,alf_ml, bet_ml, omg_ml)"
   ]
  },
  {
   "cell_type": "code",
   "execution_count": 119,
   "metadata": {},
   "outputs": [
    {
     "data": {
      "text/plain": [
       "[<matplotlib.lines.Line2D at 0x7f4b3a2b3828>]"
      ]
     },
     "execution_count": 119,
     "metadata": {},
     "output_type": "execute_result"
    },
    {
     "data": {
      "image/png": "[encoded data removed]",
      "text/plain": [
       "<Figure size 576x576 with 1 Axes>"
      ]
     },
     "metadata": {},
     "output_type": "display_data"
    }
   ],
   "source": [
    "plt.figure(figsize=(8,8))\n",
    "plt.xlabel('$Z$',fontsize=18)\n",
    "plt.ylabel('$\\mu$',fontsize=18)\n",
    "\n",
    "mu_true = mu_hat(mb,Mb,delta_M,alfa,beta,x1,color)\n",
    "mu_ml = mu_hat(mb,Mb_ml,delta_M_ml,alf_ml, bet_ml,x1,color)\n",
    "\n",
    "plt.plot(z_cmb,mu_true,'r.',label = '$\\hat{\\mu}$')\n",
    "plt.plot(z_cmb,mu_ml,'g.')\n",
    "plt.plot(np.sort(z_cmb),mu_c,'k--',label = '$\\mu_{\\lambda CDM}$')"
   ]
  },
  {
   "cell_type": "code",
   "execution_count": null,
   "metadata": {},
   "outputs": [],
   "source": []
  }
 ],
 "metadata": {
  "kernelspec": {
   "display_name": "Python 3",
   "language": "python",
   "name": "python3"
  },
  "language_info": {
   "codemirror_mode": {
    "name": "ipython",
    "version": 3
   },
   "file_extension": ".py",
   "mimetype": "text/x-python",
   "name": "python",
   "nbconvert_exporter": "python",
   "pygments_lexer": "ipython3",
   "version": "3.6.6"
  }
 },
 "nbformat": 4,
 "nbformat_minor": 2
}
