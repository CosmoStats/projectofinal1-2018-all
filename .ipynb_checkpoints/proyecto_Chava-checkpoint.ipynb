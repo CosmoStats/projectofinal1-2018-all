{
 "cells": [
  {
   "cell_type": "code",
   "execution_count": 1,
   "metadata": {},
   "outputs": [],
   "source": [
    "import numpy as np\n",
    "import matplotlib.pyplot as plt\n",
    "import csv"
   ]
  },
  {
   "cell_type": "code",
   "execution_count": 10,
   "metadata": {},
   "outputs": [],
   "source": [
    "data = np.loadtxt(\"data/jla_lcparams.txt\", skiprows = 1, usecols = (1, 4, 6, 8)).T\n",
    "zcmb = data[0]\n",
    "mb = data[1]\n",
    "X1 = data[2]\n",
    "C = data[3]"
   ]
  },
  {
   "cell_type": "code",
   "execution_count": 11,
   "metadata": {},
   "outputs": [],
   "source": [
    "#Extraemos datos de las matrices de covarianza\n",
    "cov1 = np.loadtxt(\"data/jla_v0_covmatrix.dat\", skiprows = 1)\n",
    "cov2 = np.loadtxt(\"data/jla_v0a_covmatrix.dat\", skiprows = 1)\n",
    "cov3 = np.loadtxt(\"data/jla_v0b_covmatrix.dat\", skiprows = 1)\n",
    "cov4 = np.loadtxt(\"data/jla_va_covmatrix.dat\", skiprows = 1)\n",
    "cov5 = np.loadtxt(\"data/jla_vab_covmatrix.dat\", skiprows = 1)\n",
    "cov6 = np.loadtxt(\"data/jla_vb_covmatrix.dat\", skiprows = 1)"
   ]
  },
  {
   "cell_type": "code",
   "execution_count": 12,
   "metadata": {},
   "outputs": [],
   "source": [
    "cov = cov1 + cov2 + cov3 + cov4 + cov5 + cov6 #Sumamos las matrices"
   ]
  },
  {
   "cell_type": "code",
   "execution_count": 13,
   "metadata": {},
   "outputs": [],
   "source": [
    "n = int(np.sqrt(len(cov))) #Dimension de la matriz\n",
    "\n",
    "#Convertimos el arreglo 1-dimensional en uno 2-dimensional\n",
    "cov_matrix = [0 for i in range(n)]\n",
    "for i in range(n):\n",
    "    rows = [0 for j in range(n)]\n",
    "    for j in range(n):\n",
    "        rows[j] = cov[n*i + j]\n",
    "    cov_matrix[i] = rows\n",
    "\n",
    "#Obtenemos la varianza de la matriz (la diagonal)\n",
    "var = np.diag(cov_matrix)"
   ]
  },
  {
   "cell_type": "code",
   "execution_count": 24,
   "metadata": {},
   "outputs": [
    {
     "name": "stdout",
     "output_type": "stream",
     "text": [
      "0.0086422723156567\n"
     ]
    }
   ],
   "source": []
  }
 ],
 "metadata": {
  "kernelspec": {
   "display_name": "Python 3",
   "language": "python",
   "name": "python3"
  },
  "language_info": {
   "codemirror_mode": {
    "name": "ipython",
    "version": 3
   },
   "file_extension": ".py",
   "mimetype": "text/x-python",
   "name": "python",
   "nbconvert_exporter": "python",
   "pygments_lexer": "ipython3",
   "version": "3.7.0"
  }
 },
 "nbformat": 4,
 "nbformat_minor": 2
}
