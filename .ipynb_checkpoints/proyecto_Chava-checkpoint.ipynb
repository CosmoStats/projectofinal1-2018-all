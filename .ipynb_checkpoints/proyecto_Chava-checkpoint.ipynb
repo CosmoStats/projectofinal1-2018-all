{
 "cells": [
  {
   "cell_type": "code",
   "execution_count": 1,
   "metadata": {},
   "outputs": [],
   "source": [
    "import numpy as np\n",
    "import matplotlib.pyplot as plt\n",
    "import csv"
   ]
  },
  {
   "cell_type": "code",
   "execution_count": 2,
   "metadata": {},
   "outputs": [],
   "source": [
    "data = np.loadtxt(\"data/jla_lcparams.txt\", skiprows = 1, usecols = (1, 4, 6, 8)).T\n",
    "zcmb = data[0]\n",
    "mb = data[1]\n",
    "X1 = data[2]\n",
    "C = data[3]"
   ]
  },
  {
   "cell_type": "code",
   "execution_count": 3,
   "metadata": {},
   "outputs": [],
   "source": [
    "#Extraemos datos de las matrices de covarianza\n",
    "cov1 = np.loadtxt(\"data/jla_v0_covmatrix.dat\", skiprows = 1)\n",
    "cov2 = np.loadtxt(\"data/jla_v0a_covmatrix.dat\", skiprows = 1)\n",
    "cov3 = np.loadtxt(\"data/jla_v0b_covmatrix.dat\", skiprows = 1)\n",
    "cov4 = np.loadtxt(\"data/jla_va_covmatrix.dat\", skiprows = 1)\n",
    "cov5 = np.loadtxt(\"data/jla_vab_covmatrix.dat\", skiprows = 1)\n",
    "cov6 = np.loadtxt(\"data/jla_vb_covmatrix.dat\", skiprows = 1)"
   ]
  },
  {
   "cell_type": "code",
   "execution_count": 4,
   "metadata": {},
   "outputs": [],
   "source": [
    "cov = cov1 + cov2 + cov3 + cov4 + cov5 + cov6 #Sumamos las matrices"
   ]
  },
  {
   "cell_type": "code",
   "execution_count": 5,
   "metadata": {},
   "outputs": [],
   "source": [
    "n = int(np.sqrt(len(cov))) #Dimension de la matriz\n",
    "\n",
    "#Convertimos el arreglo 1-dimensional en uno 2-dimensional\n",
    "cov_matrix = [0 for i in range(n)]\n",
    "for i in range(n):\n",
    "    rows = [0 for j in range(n)]\n",
    "    for j in range(n):\n",
    "        rows[j] = cov[n*i + j]\n",
    "    cov_matrix[i] = rows\n",
    "\n",
    "#Obtenemos la varianza de la matriz (la diagonal)\n",
    "var = np.diag(cov_matrix)"
   ]
  },
  {
   "cell_type": "code",
   "execution_count": 6,
   "metadata": {},
   "outputs": [],
   "source": [
    "def mu(mb, MB, DMB, alpha, X1, beta, C):\n",
    "    m = mb - (MB + DMB - alpha*X1 + beta*C)\n",
    "    return m"
   ]
  },
  {
   "cell_type": "code",
   "execution_count": 14,
   "metadata": {},
   "outputs": [],
   "source": [
    "def eta(a, om):\n",
    "    s = ((1- om)/om)**(1./3.)\n",
    "    b = [-0.1540, 0.4304, 0.19097, 0.066941]\n",
    "    \n",
    "    fact = a**-4 + b[0]*s*a**-3 + b[1]*s**2 * a**-2 + b[2]* s**3 * a**-1 + b[3]*s**4\n",
    "    n = 2 * np.sqrt(s**3 +1) * fact**(-1./8.)\n",
    "    return n"
   ]
  },
  {
   "cell_type": "code",
   "execution_count": 13,
   "metadata": {},
   "outputs": [],
   "source": [
    "def stand(z, om):\n",
    "    c, H0 = 299792.5, 70.0\n",
    "    a = 1/(1 + z)\n",
    "    DL = c/H0 * 1/a * (eta(1, om) - eta(a, om))\n",
    "    \n",
    "    m = 5 * np.log10(DL/10)\n",
    "    return m"
   ]
  },
  {
   "cell_type": "code",
   "execution_count": null,
   "metadata": {},
   "outputs": [],
   "source": []
  }
 ],
 "metadata": {
  "kernelspec": {
   "display_name": "Python 3",
   "language": "python",
   "name": "python3"
  },
  "language_info": {
   "codemirror_mode": {
    "name": "ipython",
    "version": 3
   },
   "file_extension": ".py",
   "mimetype": "text/x-python",
   "name": "python",
   "nbconvert_exporter": "python",
   "pygments_lexer": "ipython3",
   "version": "3.7.0"
  }
 },
 "nbformat": 4,
 "nbformat_minor": 2
}
