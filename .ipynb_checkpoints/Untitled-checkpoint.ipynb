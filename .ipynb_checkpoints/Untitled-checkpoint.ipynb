{
 "cells": [
  {
   "cell_type": "markdown",
   "metadata": {},
   "source": [
    "El modelo que vamos a considerar es:\n",
    "\n",
    "$$\\mu = m_B^* - (M_B - \\alpha \\times X_1 + \\beta \\times C)$$\n",
    "\n",
    "Con:\n",
    "\\begin{equation}\n",
    "M_B = \\left\\{ \\begin{array}{lcc}\n",
    "        M_B^* & \\textrm{si} & M_{stellar} \\leq 10^{10}M_0 \\\\\n",
    "        M_B^* + \\Delta_M & \\textrm{de otra manera} & \\\\\n",
    "        \\end{array}\n",
    "        \\right \\}\n",
    "\\end{equation}\n",
    "\n",
    "Donde $\\alpha$, $\\beta$, $M_B^*$ y $\\Delta_M$ son los $\\textit{nuisance parameters}$ que vamos a estimar, mientras que $m_B^*$, $X_1$ y $C$ son los datos que tenemos."
   ]
  },
  {
   "cell_type": "code",
   "execution_count": 2,
   "metadata": {},
   "outputs": [],
   "source": [
    "import numpy as np\n",
    "import matplotlib.pyplot as plt\n",
    "import csv"
   ]
  },
  {
   "cell_type": "code",
   "execution_count": 31,
   "metadata": {},
   "outputs": [],
   "source": [
    "with open(\"jla_lcparams.txt\") as data:\n",
    "    reader = csv.reader(data, delimiter = \" \")\n",
    "    data = list(zip(*reader))[:9]\n",
    "    zcmb = data[1][1:]\n",
    "    mb = data[4][1:]\n",
    "    x1 = data[6][1:]\n",
    "    c = data[8][1:]"
   ]
  },
  {
   "cell_type": "code",
   "execution_count": 32,
   "metadata": {},
   "outputs": [
    {
     "name": "stdout",
     "output_type": "stream",
     "text": [
      "0.503084 23.001698 1.273191 -0.012353\n"
     ]
    }
   ],
   "source": []
  }
 ],
 "metadata": {
  "kernelspec": {
   "display_name": "Python 3",
   "language": "python",
   "name": "python3"
  },
  "language_info": {
   "codemirror_mode": {
    "name": "ipython",
    "version": 3
   },
   "file_extension": ".py",
   "mimetype": "text/x-python",
   "name": "python",
   "nbconvert_exporter": "python",
   "pygments_lexer": "ipython3",
   "version": "3.7.0"
  }
 },
 "nbformat": 4,
 "nbformat_minor": 2
}
