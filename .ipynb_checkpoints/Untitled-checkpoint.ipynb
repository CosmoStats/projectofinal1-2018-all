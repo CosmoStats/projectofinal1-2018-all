{
 "cells": [
  {
   "cell_type": "code",
   "execution_count": 2,
   "metadata": {},
   "outputs": [],
   "source": [
    "#librerias a usar \n",
    "import matplotlib. pyplot as plt\n",
    "import numpy as np\n",
    "import random\n",
    "import scipy\n",
    "import scipy.special\n",
    "import math\n",
    "from scipy.optimize import minimize\n",
    "import scipy.optimize as op\n",
    "import scipy.stats as stats\n",
    "import time\n",
    "%matplotlib inline"
   ]
  },
  {
   "cell_type": "markdown",
   "metadata": {},
   "source": [
    "### IMPORTAMOS DATOS"
   ]
  },
  {
   "cell_type": "code",
   "execution_count": 5,
   "metadata": {},
   "outputs": [],
   "source": [
    "#datos:\n",
    "tb1 = np.loadtxt('jla_mub_covmatrix.dat')\n",
    "tb2 = np.loadtxt('jla_mub.txt')\n",
    "tb3 = np.loadtxt('jla_lcparams.txt', usecols=[1,2,4,6,8,10,12,13,14,15])\n",
    "\n",
    "tb4 = np.loadtxt('jla_v0a_covmatrix.dat')\n",
    "tb5 = np.loadtxt('jla_v0b_covmatrix.dat')\n",
    "tb6 = np.loadtxt('jla_v0_covmatrix.dat')\n",
    "tb7 = np.loadtxt('jla_vab_covmatrix.dat')\n",
    "tb8 = np.loadtxt('jla_va_covmatrix.dat')\n",
    "tb9 = np.loadtxt('jla_vb_covmatrix.dat')\n",
    "\n",
    "# divido los datos de jla_mub.txt en dos arrelgos z y mu \n",
    "z=tb2[:,0]\n",
    "mu=tb2[:,1]\n",
    "\n",
    "z_cmb = tb3[:,0]\n",
    "z_hel = tb3[:,1]\n",
    "mb = tb3[:,2]\n",
    "x1 = tb3[:,3]   #estiramiento de la curvatura de luz (stretching of the light-curve) \n",
    "color = tb3[:,4]   # color de supernova a brillo máximo (supernova color at maximum brightness)\n",
    "rdvar_3 = tb3[:,5]\n",
    "tmax = tb3[:,6]\n",
    "cov_m_s = tb3[:,7]\n",
    "cov_m_c = tb3[:,8]\n",
    "cov_s_c = tb3[:,9]"
   ]
  },
  {
   "cell_type": "code",
   "execution_count": 17,
   "metadata": {},
   "outputs": [],
   "source": [
    "def acomodo_de_matriz(tbn):\n",
    "    covmat = []\n",
    "    for i in range(31):\n",
    "        row=[]\n",
    "        for j in range(31):\n",
    "            row.append(tb1[(31*i)+j])\n",
    "        covmat.append(row)\n",
    "    return covmat"
   ]
  },
  {
   "cell_type": "code",
   "execution_count": 7,
   "metadata": {},
   "outputs": [],
   "source": [
    "#arreglo los datos de jla_mud_covmatrix.dat en una matriz de 31x31\n",
    "covmatrix = acomodo_de_matriz(tb1)"
   ]
  },
  {
   "cell_type": "code",
   "execution_count": 8,
   "metadata": {},
   "outputs": [],
   "source": [
    "#Pongo las varianzas de la matriz anterior (que se encuentran en la diagunal) en un arreglo.  \n",
    "var=[]\n",
    "for i in range(31):\n",
    "    var.append(covmatrix[i][i])"
   ]
  },
  {
   "cell_type": "code",
   "execution_count": 16,
   "metadata": {},
   "outputs": [],
   "source": [
    "#matriz de covarianza\n",
    "mag_covmat_file = acomodo_de_matriz(tb6)\n",
    "stretch_covmat_file = acomodo_de_matriz(tb8)\n",
    "colour_covmat_file = acomodo_de_matriz(tb9)\n",
    "mag_stretch_covmat_file = acomodo_de_matriz(tb4)\n",
    "mag_colour_covmat_file = acomodo_de_matriz(tb5)\n",
    "stretch_colour_covmat_file = acomodo_de_matriz(tb7)"
   ]
  },
  {
   "cell_type": "markdown",
   "metadata": {},
   "source": [
    "### GRAFICAMOS"
   ]
  },
  {
   "cell_type": "code",
   "execution_count": 9,
   "metadata": {},
   "outputs": [
    {
     "data": {
      "text/plain": [
       "Text(0,0.5,'$\\\\mu$')"
      ]
     },
     "execution_count": 9,
     "metadata": {},
     "output_type": "execute_result"
    },
    {
     "data": {
      "image/png": "[encoded data removed]",
      "text/plain": [
       "<Figure size 360x360 with 1 Axes>"
      ]
     },
     "metadata": {},
     "output_type": "display_data"
    }
   ],
   "source": [
    "#Graficamos los datos de 'jla_mub.txt'\n",
    "plt.figure(figsize = (5,5))\n",
    "plt.plot(z, mu, 'ko-')\n",
    "plt.xlabel('$Z$',fontsize = 18)\n",
    "plt.ylabel('$\\mu$',fontsize = 18)"
   ]
  },
  {
   "cell_type": "markdown",
   "metadata": {},
   "source": [
    "Definimos la $\\mu_{\\Lambda CDM}$ como ya se hizo en ejercicios anteriores:"
   ]
  },
  {
   "cell_type": "code",
   "execution_count": 10,
   "metadata": {},
   "outputs": [],
   "source": [
    "def sss(omg):\n",
    "    return ((1.0-omg)/omg)**(1./3)\n",
    "def eta(a,omg):\n",
    "    r = np.sqrt(np.power(sss(omg),3)+1)\n",
    "    return 2*r*pow((1./a**4 - (0.1540*sss(omg)/(a**3))+(0.4304*pow(sss(omg),2)/(a**2))+(0.19097*pow(sss(omg),3)/(a**1))+(0.066941*pow(sss(omg),4))),-1.0/8)\n",
    "def D_L(z,omg,H):\n",
    "    return (299792/H)*(1+z)*(eta(1,omg)-eta((1/(1+z)),omg))\n",
    "def mu_cdm(z,omg):\n",
    "    return 25 + (5*np.log10(D_L(z,omg,70.0))) #Valor de H_0 70 km/s*Mpc"
   ]
  },
  {
   "cell_type": "code",
   "execution_count": 11,
   "metadata": {},
   "outputs": [
    {
     "data": {
      "text/plain": [
       "<matplotlib.legend.Legend at 0x7ff86ac7f128>"
      ]
     },
     "execution_count": 11,
     "metadata": {},
     "output_type": "execute_result"
    },
    {
     "data": {
      "image/png": "[encoded data removed]",
      "text/plain": [
       "<Figure size 432x288 with 1 Axes>"
      ]
     },
     "metadata": {},
     "output_type": "display_data"
    }
   ],
   "source": [
    "omg_true = 0.289\n",
    "mu_true = mu_cdm(z, omg_true)\n",
    "\n",
    "#graficamos mu_cdm con los datos de 'jla_mub.txt'\n",
    "plt.xlabel('$Z$',fontsize = 18)\n",
    "plt.ylabel('$\\mu$',fontsize = 18)\n",
    "plt.plot(z,mu,'bo',label = 'datos' )\n",
    "plt.plot(z,mu_true,'r.-', label = 'modelo')\n",
    "plt.legend()"
   ]
  },
  {
   "cell_type": "markdown",
   "metadata": {},
   "source": [
    "La estimación de la distancia con SNe Ia se basa en la observación empírica de que estos eventos forman una clase homogénea cuya variabilidad restante está razonablemente bien captada por dos parámetros. Uno de ellos describe el tiempo de estiramiento de la curvatura de luz $X_1$ y el otro describe el color de supernova a brillo máximo $C$\n",
    "\n",
    "Estimador de distancia:\n",
    "\n",
    "\n",
    "\\begin{equation}\n",
    "\\hat{\\mu} = m_B^{\\star} - (M_B - \\alpha \\times X_1 + \\beta \\times C)\n",
    "\\end{equation}\n",
    "\n",
    "\n",
    "Donde $m_B^{\\star}$ corresponde a la magnitud máxima observada en el marco de reposo B y $\\alpha$, $\\beta$ y $M_B$ son los nuisance parameters en el estimador de distancia.\n",
    "\n",
    "Usando el estimador de distancia anterior, ajustamos una cosmología a las mediciones de supernovas minimizando la siguiente función:\n",
    "\n",
    "\n",
    "\\begin{equation}\n",
    "\\chi^2 = (\\hat{\\mu} - \\mu_{\\Lambda CDM}(z;\\Omega_m))^{\\dagger} C^{-1} (\\hat{\\mu} - \\mu_{\\Lambda CDM}(Z;\\Omega))\n",
    "\\end{equation}\n",
    "\n",
    "\n",
    "Donde $C$ es la matriz de covarianza de $\\hat{\\mu}$. Los parametros libres en el ajuste son $\\Omega_m$ y los cuatro nuisance parameters $\\alpha, \\beta, M_B^{1}$ y $\\Delta_M$"
   ]
  },
  {
   "cell_type": "code",
   "execution_count": 12,
   "metadata": {},
   "outputs": [],
   "source": [
    "def mu_hat(mb,Mb,delta_M,alf,bet,x1,c): # función para calcular mu gorrito\n",
    "    mu = mb - (Mb+delta_M - alf*x1 + bet*c)\n",
    "    return mu "
   ]
  },
  {
   "cell_type": "code",
   "execution_count": 13,
   "metadata": {},
   "outputs": [],
   "source": [
    "alfa = 0.140\n",
    "beta = 3.139\n",
    "Mb = -19.04\n",
    "delta_M = -0.060\n",
    "\n",
    "omg_m = 0.289\n",
    "\n",
    "#Calculamos la mu gorrito y lcdm:\n",
    "mu_h = mu_hat(mb,Mb,delta_M,alfa,beta,x1,color)\n",
    "mu_c = mu_cdm(np.sort(z_cmb),omg_m)"
   ]
  },
  {
   "cell_type": "code",
   "execution_count": 14,
   "metadata": {},
   "outputs": [
    {
     "data": {
      "text/plain": [
       "<matplotlib.legend.Legend at 0x7ff86ab27f98>"
      ]
     },
     "execution_count": 14,
     "metadata": {},
     "output_type": "execute_result"
    },
    {
     "data": {
      "image/png": "[encoded data removed]",
      "text/plain": [
       "<Figure size 432x288 with 1 Axes>"
      ]
     },
     "metadata": {},
     "output_type": "display_data"
    }
   ],
   "source": [
    "#Graficamos los datos: \n",
    "plt.plot(np.sort(z_cmb),mu_c,'k-',label = '$\\mu_{\\lambda CDM}$' )\n",
    "plt.plot(z_cmb,mu_h,'b,',label = '$\\hat{\\mu}$' )\n",
    "plt.xlabel('$z$',fontsize = 18)\n",
    "plt.ylabel('$\\hat{\\mu}$',fontsize = 18)\n",
    "plt.legend()"
   ]
  },
  {
   "cell_type": "code",
   "execution_count": null,
   "metadata": {},
   "outputs": [],
   "source": []
  },
  {
   "cell_type": "code",
   "execution_count": 15,
   "metadata": {},
   "outputs": [],
   "source": [
    "def lnlik (theta,z,mu,var):\n",
    "    #Parametrso iniciales\n",
    "    mb,Mb,delta_M,alf,bet,x1,color,omg = theta\n",
    "    \n",
    "    chi_2 = (mu_hat(mb,Mb,delta_M,alf,bet,x1,color)-mu_cdm(z,omg)).T*C*(mu_hat(mb,Mb,delta_M,alf,bet,x1,color)-mu_cdm(z,omg))\n",
    "    \n",
    "    inv_sigma2 = 1.0/(var+(model**2*np.exp(2*lnf)))\n",
    "    return -0.5*np.sum(pow((mu-model),2)*inv_sigma2 - np.log(inv_sigma2))"
   ]
  },
  {
   "cell_type": "code",
   "execution_count": null,
   "metadata": {},
   "outputs": [],
   "source": []
  }
 ],
 "metadata": {
  "kernelspec": {
   "display_name": "Python 3",
   "language": "python",
   "name": "python3"
  },
  "language_info": {
   "codemirror_mode": {
    "name": "ipython",
    "version": 3
   },
   "file_extension": ".py",
   "mimetype": "text/x-python",
   "name": "python",
   "nbconvert_exporter": "python",
   "pygments_lexer": "ipython3",
   "version": "3.6.6"
  }
 },
 "nbformat": 4,
 "nbformat_minor": 2
}
