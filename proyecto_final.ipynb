{
 "cells": [
  {
   "cell_type": "markdown",
   "metadata": {},
   "source": [
    "# Proyecto final\n",
    "\n",
    "Reproducción de figuras de la sección 6 del artículo _Improved cosmological constraints from a joint analysis of the SDSS-II and SNLS supernova samples_ de Betoule et. al., que puede encontrarse en https://arxiv.org/pdf/1401.4064.pdf\n",
    "\n",
    "La sección 6 del artículo trata la estimación de la _densidad total de materia_ $\\Omega_m$ del modelo cosmológico $\\Lambda CDM$, por medio del ajuste del _diagrama de Hubble_ de los datos.\n",
    "\n",
    "Las figuras a reproducir son las siguientes:\n",
    "\n",
    "<img src=\"img/tabla10.png\">\n",
    "\n",
    "<img src=\"img/fig9.png\">"
   ]
  },
  {
   "cell_type": "code",
   "execution_count": null,
   "metadata": {},
   "outputs": [],
   "source": []
  }
 ],
 "metadata": {
  "kernelspec": {
   "display_name": "Python 3",
   "language": "python",
   "name": "python3"
  },
  "language_info": {
   "codemirror_mode": {
    "name": "ipython",
    "version": 3
   },
   "file_extension": ".py",
   "mimetype": "text/x-python",
   "name": "python",
   "nbconvert_exporter": "python",
   "pygments_lexer": "ipython3",
   "version": "3.7.0"
  }
 },
 "nbformat": 4,
 "nbformat_minor": 2
}
