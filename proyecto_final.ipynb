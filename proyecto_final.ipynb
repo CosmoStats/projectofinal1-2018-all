{
 "cells": [
  {
   "cell_type": "markdown",
   "metadata": {},
   "source": [
    "# Proyecto final\n",
    "\n",
    "Reproducción de figuras de la sección 6 del artículo _Improved cosmological constraints from a joint analysis of the SDSS-II and SNLS supernova samples_ de Betoule et. al., que puede encontrarse en https://arxiv.org/pdf/1401.4064.pdf\n",
    "\n",
    "La sección 6 del artículo trata la estimación de la _densidad total de materia_ $\\Omega_m$ del modelo cosmológico $\\Lambda CDM$, por medio del ajuste del _diagrama de Hubble_ de los datos.\n",
    "\n",
    "Las figuras a reproducir son las siguientes:\n",
    "\n",
    "<img src=\"img/tabla10.png\">\n",
    "\n",
    "<img src=\"img/fig9.png\">\n",
    "\n",
    "Pero los autores solo nos dan los datos del conjunto JLA, no de los dos estudios que lo conforman por separado."
   ]
  },
  {
   "cell_type": "markdown",
   "metadata": {},
   "source": [
    "Los resultados de la tabla 10 salen de ajustar la ecuación $(4)$ del artículo:\n",
    "\n",
    "$$\n",
    "\\mu = m_b^{\\star} - (M_B - \\alpha \\times X_1 + \\beta \\times C)\n",
    "$$\n",
    "\n",
    "asumiendo que $M_B$ está relacionado con la masa estelar a partir de la ec. $(5)$:\n",
    "\n",
    "$$\n",
    "M_B = \\left\\{\n",
    "        \\begin{array}{ll}\n",
    "            M_B^1 & M_{stellar} < 10^{10} M_{\\odot} \\\\\n",
    "            M_B^1 + \\Delta_M & otherwise\n",
    "        \\end{array}\n",
    "    \\right.\n",
    "$$"
   ]
  },
  {
   "cell_type": "markdown",
   "metadata": {},
   "source": [
    "$M_B$, $\\alpha$ y $\\beta$ son parámetros libres.\n",
    "\n",
    "$\\mu$ es la distancia-módulo que se define como en el ejercicio 4 de septiembre.\n",
    "\n",
    "$m_b^{\\star}$, $X_1$ y $C$ son datos que los autores nos dan (o deberían). No los entiendo mucho, pero el primero se define como un pico observado en la banda B, el segundo como el alargamiento del tiempo en la curva de luz y el tercero como el color de la supernova cuando alcanza su máximo brillo.\n",
    "\n",
    "El artículo no dice qué son $M_B^1$ ni $\\Delta_M$ ni si nos están dando las masas estelares."
   ]
  },
  {
   "cell_type": "markdown",
   "metadata": {},
   "source": [
    "Entonces, los parámetros libres ajustan $\\mu$ con una $H_0 = 70 kms^{-1}Mpc^{-1}$ fija maximizando el likelihood\n",
    "\n",
    "$$\n",
    "\\chi^2 = (\\hat{\\mu} - \\mu_{\\Lambda CDM}(z; \\Omega_m))^{\\dagger}C^{-1}(\\hat{\\mu} - \\mu_{\\Lambda CDM}(z; \\Omega_m))\n",
    "$$"
   ]
  },
  {
   "cell_type": "markdown",
   "metadata": {},
   "source": [
    "donde $\\hat{\\mu}$ es la $\\mu$ real, $C$ es la matriz de covarianza de $\\hat{\\mu}$ y $\\mu_{\\Lambda CDM}$ es el modelo propuesto. ¿O es al revés?"
   ]
  },
  {
   "cell_type": "markdown",
   "metadata": {},
   "source": [
    "Guardé las funciones del ejercicio 4 de septiembre en un archivo llamado cosmofunc.py"
   ]
  },
  {
   "cell_type": "code",
   "execution_count": null,
   "metadata": {},
   "outputs": [],
   "source": []
  }
 ],
 "metadata": {
  "kernelspec": {
   "display_name": "Python 2",
   "language": "python",
   "name": "python2"
  },
  "language_info": {
   "codemirror_mode": {
    "name": "ipython",
    "version": 2
   },
   "file_extension": ".py",
   "mimetype": "text/x-python",
   "name": "python",
   "nbconvert_exporter": "python",
   "pygments_lexer": "ipython2",
   "version": "2.7.15"
  }
 },
 "nbformat": 4,
 "nbformat_minor": 2
}
